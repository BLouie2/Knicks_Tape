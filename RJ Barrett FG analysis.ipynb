{
 "cells": [
  {
   "cell_type": "code",
   "execution_count": 2,
   "metadata": {},
   "outputs": [],
   "source": [
    "import pandas as pd\n",
    "import numpy as np\n",
    "from scipy import stats\n",
    "from scipy.stats import bernoulli, binom, describe\n",
    "from statsmodels.stats import power as pwr\n",
    "import matplotlib.pyplot as plt\n",
    "import seaborn as sns\n",
    "import plotnine as p9\n",
    "import math as ma"
   ]
  },
  {
   "cell_type": "code",
   "execution_count": 3,
   "metadata": {},
   "outputs": [],
   "source": [
    "# Installing plotnine package\n",
    "# $ pip install plotnine"
   ]
  },
  {
   "cell_type": "markdown",
   "metadata": {},
   "source": [
    "# Does RJ Barrett have 🪣 potential ?"
   ]
  },
  {
   "cell_type": "markdown",
   "metadata": {},
   "source": [
    "<div class=\"alert alert-block alert-info\">\n",
    "\n",
    "### Was RJ's sophmore year shooting improvement exaggerated or legitimate?\n",
    "    \n",
    "</div>"
   ]
  },
  {
   "cell_type": "code",
   "execution_count": 4,
   "metadata": {},
   "outputs": [
    {
     "data": {
      "text/html": [
       "<div>\n",
       "<style scoped>\n",
       "    .dataframe tbody tr th:only-of-type {\n",
       "        vertical-align: middle;\n",
       "    }\n",
       "\n",
       "    .dataframe tbody tr th {\n",
       "        vertical-align: top;\n",
       "    }\n",
       "\n",
       "    .dataframe thead th {\n",
       "        text-align: right;\n",
       "    }\n",
       "</style>\n",
       "<table border=\"1\" class=\"dataframe\">\n",
       "  <thead>\n",
       "    <tr style=\"text-align: right;\">\n",
       "      <th></th>\n",
       "      <th>Date</th>\n",
       "      <th>Age</th>\n",
       "      <th>Tm</th>\n",
       "      <th>FG</th>\n",
       "      <th>FGA</th>\n",
       "      <th>3P</th>\n",
       "      <th>3PA</th>\n",
       "      <th>FT</th>\n",
       "      <th>FTA</th>\n",
       "      <th>ORB</th>\n",
       "      <th>DRB</th>\n",
       "      <th>TRB</th>\n",
       "      <th>AST</th>\n",
       "      <th>STL</th>\n",
       "      <th>BLK</th>\n",
       "      <th>TOV</th>\n",
       "      <th>PF</th>\n",
       "      <th>PTS</th>\n",
       "      <th>+/-</th>\n",
       "    </tr>\n",
       "  </thead>\n",
       "  <tbody>\n",
       "    <tr>\n",
       "      <th>0</th>\n",
       "      <td>2019-10-23</td>\n",
       "      <td>19-131</td>\n",
       "      <td>NYK</td>\n",
       "      <td>9</td>\n",
       "      <td>13</td>\n",
       "      <td>1</td>\n",
       "      <td>3</td>\n",
       "      <td>2</td>\n",
       "      <td>4</td>\n",
       "      <td>0</td>\n",
       "      <td>5</td>\n",
       "      <td>5</td>\n",
       "      <td>2</td>\n",
       "      <td>2</td>\n",
       "      <td>0</td>\n",
       "      <td>3</td>\n",
       "      <td>3</td>\n",
       "      <td>21</td>\n",
       "      <td>-2</td>\n",
       "    </tr>\n",
       "    <tr>\n",
       "      <th>1</th>\n",
       "      <td>2019-10-25</td>\n",
       "      <td>19-133</td>\n",
       "      <td>NYK</td>\n",
       "      <td>7</td>\n",
       "      <td>16</td>\n",
       "      <td>2</td>\n",
       "      <td>4</td>\n",
       "      <td>0</td>\n",
       "      <td>3</td>\n",
       "      <td>0</td>\n",
       "      <td>3</td>\n",
       "      <td>3</td>\n",
       "      <td>3</td>\n",
       "      <td>6</td>\n",
       "      <td>0</td>\n",
       "      <td>5</td>\n",
       "      <td>4</td>\n",
       "      <td>16</td>\n",
       "      <td>0</td>\n",
       "    </tr>\n",
       "    <tr>\n",
       "      <th>2</th>\n",
       "      <td>2019-10-26</td>\n",
       "      <td>19-134</td>\n",
       "      <td>NYK</td>\n",
       "      <td>9</td>\n",
       "      <td>21</td>\n",
       "      <td>4</td>\n",
       "      <td>6</td>\n",
       "      <td>4</td>\n",
       "      <td>7</td>\n",
       "      <td>3</td>\n",
       "      <td>4</td>\n",
       "      <td>7</td>\n",
       "      <td>3</td>\n",
       "      <td>0</td>\n",
       "      <td>0</td>\n",
       "      <td>4</td>\n",
       "      <td>3</td>\n",
       "      <td>26</td>\n",
       "      <td>-9</td>\n",
       "    </tr>\n",
       "    <tr>\n",
       "      <th>3</th>\n",
       "      <td>2019-10-28</td>\n",
       "      <td>19-136</td>\n",
       "      <td>NYK</td>\n",
       "      <td>7</td>\n",
       "      <td>15</td>\n",
       "      <td>0</td>\n",
       "      <td>2</td>\n",
       "      <td>5</td>\n",
       "      <td>11</td>\n",
       "      <td>6</td>\n",
       "      <td>9</td>\n",
       "      <td>15</td>\n",
       "      <td>5</td>\n",
       "      <td>0</td>\n",
       "      <td>1</td>\n",
       "      <td>2</td>\n",
       "      <td>3</td>\n",
       "      <td>19</td>\n",
       "      <td>5</td>\n",
       "    </tr>\n",
       "    <tr>\n",
       "      <th>4</th>\n",
       "      <td>2019-10-30</td>\n",
       "      <td>19-138</td>\n",
       "      <td>NYK</td>\n",
       "      <td>4</td>\n",
       "      <td>11</td>\n",
       "      <td>1</td>\n",
       "      <td>4</td>\n",
       "      <td>0</td>\n",
       "      <td>2</td>\n",
       "      <td>0</td>\n",
       "      <td>2</td>\n",
       "      <td>2</td>\n",
       "      <td>2</td>\n",
       "      <td>0</td>\n",
       "      <td>0</td>\n",
       "      <td>2</td>\n",
       "      <td>2</td>\n",
       "      <td>9</td>\n",
       "      <td>-20</td>\n",
       "    </tr>\n",
       "  </tbody>\n",
       "</table>\n",
       "</div>"
      ],
      "text/plain": [
       "        Date     Age   Tm  FG  FGA  3P  3PA  FT  FTA  ORB  DRB  TRB  AST  STL  \\\n",
       "0 2019-10-23  19-131  NYK   9   13   1    3   2    4    0    5    5    2    2   \n",
       "1 2019-10-25  19-133  NYK   7   16   2    4   0    3    0    3    3    3    6   \n",
       "2 2019-10-26  19-134  NYK   9   21   4    6   4    7    3    4    7    3    0   \n",
       "3 2019-10-28  19-136  NYK   7   15   0    2   5   11    6    9   15    5    0   \n",
       "4 2019-10-30  19-138  NYK   4   11   1    4   0    2    0    2    2    2    0   \n",
       "\n",
       "   BLK  TOV  PF  PTS  +/-  \n",
       "0    0    3   3   21   -2  \n",
       "1    0    5   4   16    0  \n",
       "2    0    4   3   26   -9  \n",
       "3    1    2   3   19    5  \n",
       "4    0    2   2    9  -20  "
      ]
     },
     "execution_count": 4,
     "metadata": {},
     "output_type": "execute_result"
    }
   ],
   "source": [
    "# Thank you to basketballreference.com for game log stats\n",
    "# Loading game logs for RJ Barrett's rookie and sophmore seasons\n",
    "RJ_season1stats = pd.read_excel('RJ_szn1.xlsx')\n",
    "RJ_season1stats.head()"
   ]
  },
  {
   "cell_type": "code",
   "execution_count": 5,
   "metadata": {},
   "outputs": [
    {
     "name": "stdout",
     "output_type": "stream",
     "text": [
      "<class 'pandas.core.frame.DataFrame'>\n",
      "RangeIndex: 56 entries, 0 to 55\n",
      "Data columns (total 19 columns):\n",
      " #   Column  Non-Null Count  Dtype         \n",
      "---  ------  --------------  -----         \n",
      " 0   Date    56 non-null     datetime64[ns]\n",
      " 1   Age     56 non-null     object        \n",
      " 2   Tm      56 non-null     object        \n",
      " 3   FG      56 non-null     int64         \n",
      " 4   FGA     56 non-null     int64         \n",
      " 5   3P      56 non-null     int64         \n",
      " 6   3PA     56 non-null     int64         \n",
      " 7   FT      56 non-null     int64         \n",
      " 8   FTA     56 non-null     int64         \n",
      " 9   ORB     56 non-null     int64         \n",
      " 10  DRB     56 non-null     int64         \n",
      " 11  TRB     56 non-null     int64         \n",
      " 12  AST     56 non-null     int64         \n",
      " 13  STL     56 non-null     int64         \n",
      " 14  BLK     56 non-null     int64         \n",
      " 15  TOV     56 non-null     int64         \n",
      " 16  PF      56 non-null     int64         \n",
      " 17  PTS     56 non-null     int64         \n",
      " 18  +/-     56 non-null     int64         \n",
      "dtypes: datetime64[ns](1), int64(16), object(2)\n",
      "memory usage: 8.4+ KB\n"
     ]
    }
   ],
   "source": [
    "RJ_season1stats.info()"
   ]
  },
  {
   "cell_type": "code",
   "execution_count": 6,
   "metadata": {},
   "outputs": [],
   "source": [
    "RJ_season1stats['FG_pct'] = round(RJ_season1stats['FG'] / RJ_season1stats['FGA'],3)\n",
    "RJ_season1stats['3P_pct'] = round(RJ_season1stats['3P'] / RJ_season1stats['3PA'],3)"
   ]
  },
  {
   "cell_type": "code",
   "execution_count": 7,
   "metadata": {},
   "outputs": [
    {
     "data": {
      "text/html": [
       "<div>\n",
       "<style scoped>\n",
       "    .dataframe tbody tr th:only-of-type {\n",
       "        vertical-align: middle;\n",
       "    }\n",
       "\n",
       "    .dataframe tbody tr th {\n",
       "        vertical-align: top;\n",
       "    }\n",
       "\n",
       "    .dataframe thead th {\n",
       "        text-align: right;\n",
       "    }\n",
       "</style>\n",
       "<table border=\"1\" class=\"dataframe\">\n",
       "  <thead>\n",
       "    <tr style=\"text-align: right;\">\n",
       "      <th></th>\n",
       "      <th>Date</th>\n",
       "      <th>Age</th>\n",
       "      <th>Tm</th>\n",
       "      <th>FG</th>\n",
       "      <th>FGA</th>\n",
       "      <th>3P</th>\n",
       "      <th>3PA</th>\n",
       "      <th>FT</th>\n",
       "      <th>FTA</th>\n",
       "      <th>ORB</th>\n",
       "      <th>...</th>\n",
       "      <th>TRB</th>\n",
       "      <th>AST</th>\n",
       "      <th>STL</th>\n",
       "      <th>BLK</th>\n",
       "      <th>TOV</th>\n",
       "      <th>PF</th>\n",
       "      <th>PTS</th>\n",
       "      <th>+/-</th>\n",
       "      <th>FG_pct</th>\n",
       "      <th>3P_pct</th>\n",
       "    </tr>\n",
       "  </thead>\n",
       "  <tbody>\n",
       "    <tr>\n",
       "      <th>0</th>\n",
       "      <td>2019-10-23</td>\n",
       "      <td>19-131</td>\n",
       "      <td>NYK</td>\n",
       "      <td>9</td>\n",
       "      <td>13</td>\n",
       "      <td>1</td>\n",
       "      <td>3</td>\n",
       "      <td>2</td>\n",
       "      <td>4</td>\n",
       "      <td>0</td>\n",
       "      <td>...</td>\n",
       "      <td>5</td>\n",
       "      <td>2</td>\n",
       "      <td>2</td>\n",
       "      <td>0</td>\n",
       "      <td>3</td>\n",
       "      <td>3</td>\n",
       "      <td>21</td>\n",
       "      <td>-2</td>\n",
       "      <td>0.692</td>\n",
       "      <td>0.333</td>\n",
       "    </tr>\n",
       "    <tr>\n",
       "      <th>1</th>\n",
       "      <td>2019-10-25</td>\n",
       "      <td>19-133</td>\n",
       "      <td>NYK</td>\n",
       "      <td>7</td>\n",
       "      <td>16</td>\n",
       "      <td>2</td>\n",
       "      <td>4</td>\n",
       "      <td>0</td>\n",
       "      <td>3</td>\n",
       "      <td>0</td>\n",
       "      <td>...</td>\n",
       "      <td>3</td>\n",
       "      <td>3</td>\n",
       "      <td>6</td>\n",
       "      <td>0</td>\n",
       "      <td>5</td>\n",
       "      <td>4</td>\n",
       "      <td>16</td>\n",
       "      <td>0</td>\n",
       "      <td>0.438</td>\n",
       "      <td>0.500</td>\n",
       "    </tr>\n",
       "    <tr>\n",
       "      <th>2</th>\n",
       "      <td>2019-10-26</td>\n",
       "      <td>19-134</td>\n",
       "      <td>NYK</td>\n",
       "      <td>9</td>\n",
       "      <td>21</td>\n",
       "      <td>4</td>\n",
       "      <td>6</td>\n",
       "      <td>4</td>\n",
       "      <td>7</td>\n",
       "      <td>3</td>\n",
       "      <td>...</td>\n",
       "      <td>7</td>\n",
       "      <td>3</td>\n",
       "      <td>0</td>\n",
       "      <td>0</td>\n",
       "      <td>4</td>\n",
       "      <td>3</td>\n",
       "      <td>26</td>\n",
       "      <td>-9</td>\n",
       "      <td>0.429</td>\n",
       "      <td>0.667</td>\n",
       "    </tr>\n",
       "    <tr>\n",
       "      <th>3</th>\n",
       "      <td>2019-10-28</td>\n",
       "      <td>19-136</td>\n",
       "      <td>NYK</td>\n",
       "      <td>7</td>\n",
       "      <td>15</td>\n",
       "      <td>0</td>\n",
       "      <td>2</td>\n",
       "      <td>5</td>\n",
       "      <td>11</td>\n",
       "      <td>6</td>\n",
       "      <td>...</td>\n",
       "      <td>15</td>\n",
       "      <td>5</td>\n",
       "      <td>0</td>\n",
       "      <td>1</td>\n",
       "      <td>2</td>\n",
       "      <td>3</td>\n",
       "      <td>19</td>\n",
       "      <td>5</td>\n",
       "      <td>0.467</td>\n",
       "      <td>0.000</td>\n",
       "    </tr>\n",
       "    <tr>\n",
       "      <th>4</th>\n",
       "      <td>2019-10-30</td>\n",
       "      <td>19-138</td>\n",
       "      <td>NYK</td>\n",
       "      <td>4</td>\n",
       "      <td>11</td>\n",
       "      <td>1</td>\n",
       "      <td>4</td>\n",
       "      <td>0</td>\n",
       "      <td>2</td>\n",
       "      <td>0</td>\n",
       "      <td>...</td>\n",
       "      <td>2</td>\n",
       "      <td>2</td>\n",
       "      <td>0</td>\n",
       "      <td>0</td>\n",
       "      <td>2</td>\n",
       "      <td>2</td>\n",
       "      <td>9</td>\n",
       "      <td>-20</td>\n",
       "      <td>0.364</td>\n",
       "      <td>0.250</td>\n",
       "    </tr>\n",
       "  </tbody>\n",
       "</table>\n",
       "<p>5 rows × 21 columns</p>\n",
       "</div>"
      ],
      "text/plain": [
       "        Date     Age   Tm  FG  FGA  3P  3PA  FT  FTA  ORB  ...  TRB  AST  STL  \\\n",
       "0 2019-10-23  19-131  NYK   9   13   1    3   2    4    0  ...    5    2    2   \n",
       "1 2019-10-25  19-133  NYK   7   16   2    4   0    3    0  ...    3    3    6   \n",
       "2 2019-10-26  19-134  NYK   9   21   4    6   4    7    3  ...    7    3    0   \n",
       "3 2019-10-28  19-136  NYK   7   15   0    2   5   11    6  ...   15    5    0   \n",
       "4 2019-10-30  19-138  NYK   4   11   1    4   0    2    0  ...    2    2    0   \n",
       "\n",
       "   BLK  TOV  PF  PTS  +/-  FG_pct  3P_pct  \n",
       "0    0    3   3   21   -2   0.692   0.333  \n",
       "1    0    5   4   16    0   0.438   0.500  \n",
       "2    0    4   3   26   -9   0.429   0.667  \n",
       "3    1    2   3   19    5   0.467   0.000  \n",
       "4    0    2   2    9  -20   0.364   0.250  \n",
       "\n",
       "[5 rows x 21 columns]"
      ]
     },
     "execution_count": 7,
     "metadata": {},
     "output_type": "execute_result"
    }
   ],
   "source": [
    "RJ_season1stats.head()"
   ]
  },
  {
   "cell_type": "code",
   "execution_count": 8,
   "metadata": {},
   "outputs": [
    {
     "data": {
      "text/html": [
       "<div>\n",
       "<style scoped>\n",
       "    .dataframe tbody tr th:only-of-type {\n",
       "        vertical-align: middle;\n",
       "    }\n",
       "\n",
       "    .dataframe tbody tr th {\n",
       "        vertical-align: top;\n",
       "    }\n",
       "\n",
       "    .dataframe thead th {\n",
       "        text-align: right;\n",
       "    }\n",
       "</style>\n",
       "<table border=\"1\" class=\"dataframe\">\n",
       "  <thead>\n",
       "    <tr style=\"text-align: right;\">\n",
       "      <th></th>\n",
       "      <th>Date</th>\n",
       "      <th>Age</th>\n",
       "      <th>Tm</th>\n",
       "      <th>FG</th>\n",
       "      <th>FGA</th>\n",
       "      <th>3P</th>\n",
       "      <th>3PA</th>\n",
       "      <th>FT</th>\n",
       "      <th>FTA</th>\n",
       "      <th>ORB</th>\n",
       "      <th>DRB</th>\n",
       "      <th>TRB</th>\n",
       "      <th>AST</th>\n",
       "      <th>STL</th>\n",
       "      <th>BLK</th>\n",
       "      <th>TOV</th>\n",
       "      <th>PF</th>\n",
       "      <th>PTS</th>\n",
       "      <th>+/-</th>\n",
       "    </tr>\n",
       "  </thead>\n",
       "  <tbody>\n",
       "    <tr>\n",
       "      <th>0</th>\n",
       "      <td>2020-12-23</td>\n",
       "      <td>20-192</td>\n",
       "      <td>NYK</td>\n",
       "      <td>11</td>\n",
       "      <td>15</td>\n",
       "      <td>3</td>\n",
       "      <td>3</td>\n",
       "      <td>1</td>\n",
       "      <td>2</td>\n",
       "      <td>0</td>\n",
       "      <td>8</td>\n",
       "      <td>8</td>\n",
       "      <td>5</td>\n",
       "      <td>0</td>\n",
       "      <td>0</td>\n",
       "      <td>1</td>\n",
       "      <td>3</td>\n",
       "      <td>26</td>\n",
       "      <td>-10</td>\n",
       "    </tr>\n",
       "    <tr>\n",
       "      <th>1</th>\n",
       "      <td>2020-12-26</td>\n",
       "      <td>20-195</td>\n",
       "      <td>NYK</td>\n",
       "      <td>2</td>\n",
       "      <td>15</td>\n",
       "      <td>0</td>\n",
       "      <td>6</td>\n",
       "      <td>6</td>\n",
       "      <td>8</td>\n",
       "      <td>1</td>\n",
       "      <td>5</td>\n",
       "      <td>6</td>\n",
       "      <td>4</td>\n",
       "      <td>0</td>\n",
       "      <td>0</td>\n",
       "      <td>4</td>\n",
       "      <td>0</td>\n",
       "      <td>10</td>\n",
       "      <td>-16</td>\n",
       "    </tr>\n",
       "    <tr>\n",
       "      <th>2</th>\n",
       "      <td>2020-12-27</td>\n",
       "      <td>20-196</td>\n",
       "      <td>NYK</td>\n",
       "      <td>7</td>\n",
       "      <td>17</td>\n",
       "      <td>0</td>\n",
       "      <td>4</td>\n",
       "      <td>3</td>\n",
       "      <td>4</td>\n",
       "      <td>2</td>\n",
       "      <td>6</td>\n",
       "      <td>8</td>\n",
       "      <td>4</td>\n",
       "      <td>1</td>\n",
       "      <td>0</td>\n",
       "      <td>2</td>\n",
       "      <td>4</td>\n",
       "      <td>17</td>\n",
       "      <td>21</td>\n",
       "    </tr>\n",
       "    <tr>\n",
       "      <th>3</th>\n",
       "      <td>2020-12-29</td>\n",
       "      <td>20-198</td>\n",
       "      <td>NYK</td>\n",
       "      <td>4</td>\n",
       "      <td>15</td>\n",
       "      <td>0</td>\n",
       "      <td>3</td>\n",
       "      <td>4</td>\n",
       "      <td>4</td>\n",
       "      <td>1</td>\n",
       "      <td>6</td>\n",
       "      <td>7</td>\n",
       "      <td>2</td>\n",
       "      <td>2</td>\n",
       "      <td>0</td>\n",
       "      <td>2</td>\n",
       "      <td>2</td>\n",
       "      <td>12</td>\n",
       "      <td>1</td>\n",
       "    </tr>\n",
       "    <tr>\n",
       "      <th>4</th>\n",
       "      <td>2020-12-31</td>\n",
       "      <td>20-200</td>\n",
       "      <td>NYK</td>\n",
       "      <td>4</td>\n",
       "      <td>19</td>\n",
       "      <td>0</td>\n",
       "      <td>8</td>\n",
       "      <td>4</td>\n",
       "      <td>5</td>\n",
       "      <td>2</td>\n",
       "      <td>6</td>\n",
       "      <td>8</td>\n",
       "      <td>3</td>\n",
       "      <td>1</td>\n",
       "      <td>0</td>\n",
       "      <td>2</td>\n",
       "      <td>2</td>\n",
       "      <td>12</td>\n",
       "      <td>-20</td>\n",
       "    </tr>\n",
       "  </tbody>\n",
       "</table>\n",
       "</div>"
      ],
      "text/plain": [
       "        Date     Age   Tm  FG  FGA  3P  3PA  FT  FTA  ORB  DRB  TRB  AST  STL  \\\n",
       "0 2020-12-23  20-192  NYK  11   15   3    3   1    2    0    8    8    5    0   \n",
       "1 2020-12-26  20-195  NYK   2   15   0    6   6    8    1    5    6    4    0   \n",
       "2 2020-12-27  20-196  NYK   7   17   0    4   3    4    2    6    8    4    1   \n",
       "3 2020-12-29  20-198  NYK   4   15   0    3   4    4    1    6    7    2    2   \n",
       "4 2020-12-31  20-200  NYK   4   19   0    8   4    5    2    6    8    3    1   \n",
       "\n",
       "   BLK  TOV  PF  PTS  +/-  \n",
       "0    0    1   3   26  -10  \n",
       "1    0    4   0   10  -16  \n",
       "2    0    2   4   17   21  \n",
       "3    0    2   2   12    1  \n",
       "4    0    2   2   12  -20  "
      ]
     },
     "execution_count": 8,
     "metadata": {},
     "output_type": "execute_result"
    }
   ],
   "source": [
    "RJ_season2stats = pd.read_excel('RJ_szn2.xlsx')\n",
    "RJ_season2stats.head()"
   ]
  },
  {
   "cell_type": "code",
   "execution_count": 9,
   "metadata": {},
   "outputs": [],
   "source": [
    "RJ_season2stats['FG_pct'] = round(RJ_season2stats['FG'] / RJ_season2stats['FGA'],3)\n",
    "RJ_season2stats['3P_pct'] = round(RJ_season2stats['3P'] / RJ_season2stats['3PA'],3)"
   ]
  },
  {
   "cell_type": "code",
   "execution_count": 10,
   "metadata": {},
   "outputs": [],
   "source": [
    "# Create array for each season\n",
    "rook_szn = RJ_season1stats['FG_pct'].values\n",
    "soph_szn = RJ_season2stats['FG_pct'].values"
   ]
  },
  {
   "cell_type": "code",
   "execution_count": 19,
   "metadata": {},
   "outputs": [
    {
     "data": {
      "image/png": "[encoded data removed]",
      "text/plain": [
       "<Figure size 576x432 with 1 Axes>"
      ]
     },
     "metadata": {},
     "output_type": "display_data"
    }
   ],
   "source": [
    "sns.set_context('notebook')\n",
    "sns.set_style('darkgrid')\n",
    "f, ax = plt.subplots(figsize = (8,6))\n",
    "sns.ecdfplot(data=rook_szn)\n",
    "sns.ecdfplot(data=soph_szn)\n",
    "\n",
    "plt.xlabel('FG %', fontsize= 'large')\n",
    "plt.ylabel('Proportion', fontsize= 'large')\n",
    "plt.title('ECDF of actual FG%', fontsize= 'large')\n",
    "plt.legend(('Rookie Season', 'Soph Season'), loc= 'lower right')\n",
    "plt.margins(0.02)\n",
    "plt.show()"
   ]
  },
  {
   "cell_type": "markdown",
   "metadata": {},
   "source": [
    "## Was this observed difference in shooting performance just by chance?"
   ]
  },
  {
   "cell_type": "markdown",
   "metadata": {},
   "source": [
    "<div class=\"alert alert-block alert-info\">\n",
    "\n",
    "- In order to determine the appropriate statistical test to assess if there was significant difference between RJ's rookie and sophmore seasons, first the distribution of FG% for each year needs to be checked for its adherence or departure from normal distribution\n",
    "\n",
    "    \n",
    "- To assess the normality of each season's FG% distrbution we will use Q-Q plot and perform a Shapiro-Wilks test\n",
    "    \n",
    "    \n",
    "- Both test are based on same underlying principle, each compares the values in the sample with the distribution of values expected for a normal distribution. For Shapiro-Wilks a test statistic value of 1 represents perfect normality\n",
    "    \n",
    "</div>"
   ]
  },
  {
   "cell_type": "code",
   "execution_count": 12,
   "metadata": {},
   "outputs": [
    {
     "data": {
      "image/png": "[encoded data removed]",
      "text/plain": [
       "<Figure size 640x480 with 1 Axes>"
      ]
     },
     "metadata": {},
     "output_type": "display_data"
    },
    {
     "name": "stdout",
     "output_type": "stream",
     "text": [
      "\n"
     ]
    }
   ],
   "source": [
    "# Calculate theoretical quantiles\n",
    "tq = stats.probplot(rook_szn, dist=\"norm\")\n",
    "\n",
    "# Create Dataframe\n",
    "df = pd.DataFrame(data= {'Theoretical Quantiles': tq[0][0], \n",
    "                         \"Ordered Values\": RJ_season1stats['FG_pct'].sort_values() })\n",
    "\n",
    "# Create Q-Q plot\n",
    "print(p9.ggplot(df)+ p9.aes('Theoretical Quantiles', \"Ordered Values\") + p9.geom_point())\n",
    "plt.show()"
   ]
  },
  {
   "cell_type": "code",
   "execution_count": 13,
   "metadata": {},
   "outputs": [
    {
     "data": {
      "image/png": "[encoded data removed]",
      "text/plain": [
       "<Figure size 640x480 with 1 Axes>"
      ]
     },
     "metadata": {},
     "output_type": "display_data"
    },
    {
     "name": "stdout",
     "output_type": "stream",
     "text": [
      "\n"
     ]
    }
   ],
   "source": [
    "# Calculate theoretical quantiles\n",
    "tq = stats.probplot(soph_szn, dist=\"norm\")\n",
    "\n",
    "# Create Dataframe\n",
    "df = pd.DataFrame(data= {'Theoretical Quantiles': tq[0][0], \n",
    "                         \"Ordered Values\": RJ_season2stats['FG_pct'].sort_values() })\n",
    "\n",
    "# Create Q-Q plot\n",
    "print(p9.ggplot(df)+ p9.aes('Theoretical Quantiles', \"Ordered Values\") + p9.geom_point())\n",
    "plt.show()"
   ]
  },
  {
   "cell_type": "code",
   "execution_count": 14,
   "metadata": {},
   "outputs": [
    {
     "name": "stdout",
     "output_type": "stream",
     "text": [
      "ShapiroResult(statistic=0.9800770878791809, pvalue=0.4789324998855591)\n"
     ]
    }
   ],
   "source": [
    "shapiro_RJ1 = stats.shapiro(rook_szn)\n",
    "print(shapiro_RJ1)"
   ]
  },
  {
   "cell_type": "code",
   "execution_count": 15,
   "metadata": {},
   "outputs": [
    {
     "name": "stdout",
     "output_type": "stream",
     "text": [
      "ShapiroResult(statistic=0.9819506406784058, pvalue=0.3900890648365021)\n"
     ]
    }
   ],
   "source": [
    "shapiro_RJ2 = stats.shapiro(soph_szn)\n",
    "print(shapiro_RJ2)"
   ]
  },
  {
   "cell_type": "markdown",
   "metadata": {},
   "source": [
    "<div class=\"alert alert-block alert-info\">\n",
    "\n",
    "* The near straight line observed in the `Q-Q plot` and test statistic(s) close to 1.0 confirm that both seasons follow almost exactly normal distribution \n",
    "\n",
    "\n",
    "* With a firmer understanding of distribution of each season we can be confident a two sample t-test is best suited to evaluate difference in mean between two seasons \n",
    "    \n",
    "</div>"
   ]
  },
  {
   "cell_type": "markdown",
   "metadata": {},
   "source": [
    " Our null hypothesis ${ H_o }$ in our two sample t-test is the means of FG% from season 1 and season 2 for RJ are identical, ${\\mu_{FG_rookie}=\\mu_{FG_sophmore}}$ and that the observed difference in means was produced by random chance. A difference in the means would indicate that the improved shooting performance in RJ's sophmore season was distinct and unique to that of RJ's rookie year and provide evidence that his enhanced scoring ability.\n",
    " \n",
    "We will use standard alpha value, $\\alpha = 0.05$, as our critical value to decide whether or not we reject our null hypothesis. "
   ]
  },
  {
   "cell_type": "code",
   "execution_count": 65,
   "metadata": {},
   "outputs": [
    {
     "name": "stdout",
     "output_type": "stream",
     "text": [
      "Ttest_indResult(statistic=-1.798349255438278, pvalue=0.07451587234770526)\n",
      "No significant difference found\n"
     ]
    }
   ],
   "source": [
    "# Perform the two-sample t-test\n",
    "t_result= stats.ttest_ind(RJ_season1stats['FG_pct'], RJ_season2stats['FG_pct'])\n",
    "print(t_result)\n",
    "\n",
    "# Test significance\n",
    "alpha= 0.05\n",
    "if (t_result[1] < alpha):\n",
    "    print(\"RJ Barrett's season 1 and season 2 shooting numbers have different mean FG%\")\n",
    "else: print(\"No significant difference found\")"
   ]
  },
  {
   "cell_type": "markdown",
   "metadata": {},
   "source": [
    "### Evaluating two sample t-test results\n",
    "\n",
    "<div class=\"alert alert-block alert-success\">\n",
    "\n",
    "\n",
    "- While our ECDF plot showed promising indicators the mean FG% for RJ's rookie season to his sophmore season were clearly distinct, unfortunately two sample t-test comparing the seasons did not agree\n",
    "\n",
    "    \n",
    "- Although it was a very low `p-value = 0.0745`, it did not meet our criteria as significantly significant result. Ultimately, there is no statistically significant evidence that the observed difference in shooting performance from RJ's rookie year to sophmore year was due to more than chance\n",
    "\n",
    "</div>"
   ]
  },
  {
   "cell_type": "markdown",
   "metadata": {},
   "source": [
    "### P-value is not the final word "
   ]
  },
  {
   "cell_type": "markdown",
   "metadata": {},
   "source": [
    "<div class=\"alert alert-block alert-info\"> \n",
    "    \n",
    "This was a disappointing end to our analysis, until RJ reminded me there is a key componenet to interpreting statistical test resuts that was overlooked - <b>the statistical Power of our two sample t-test</b>\n",
    "\n",
    "</div>"
   ]
  },
  {
   "cell_type": "markdown",
   "metadata": {},
   "source": [
    "![IdeaURL](https://media.giphy.com/media/XHqLCH0ljA2YxYHGj4/giphy.gif?cid=ecf05e47f1286zq19j41ju2nafaxm1q80e04kfn7p52a8q80&rid=giphy.gif&ct=g \"idea_alert\")"
   ]
  },
  {
   "cell_type": "markdown",
   "metadata": {},
   "source": [
    "## Further interpreation of results - Statistical Power and Effect size"
   ]
  },
  {
   "cell_type": "markdown",
   "metadata": {},
   "source": [
    "<div class=\"alert alert-block alert-info\">\n",
    "\n",
    "-  <b>Statistical power</b> is the probability that we will detect an effect under specific conditions \n",
    "    - With a power of 0, we have no chance of detecting an effect\n",
    "    - With a power of 1, we are sure of detecting an effect\n",
    "\n",
    "\n",
    "- While statistical significance represents how confidence we are there is difference in the means of the two samples, effect size indicates how much of a difference exists\n",
    "    - Thus, in our example effect size is how much a difference exists between mean FG% of RJ's rookie season and his sophmore season\n",
    "\n",
    "\n",
    "- Questions to consider: \n",
    "    - What effect size <b>would be detectable</b> to our test given the available datasets? \n",
    "    - What is the statistical Power of our two sample t-test under these conditions?\n",
    "    \n",
    "</div>"
   ]
  },
  {
   "cell_type": "code",
   "execution_count": 66,
   "metadata": {},
   "outputs": [
    {
     "data": {
      "text/plain": [
       "'The minimum effect size we could detect assuming a Power of 0.80 and the available sample sizes is 0.572'"
      ]
     },
     "execution_count": 66,
     "metadata": {},
     "output_type": "execute_result"
    }
   ],
   "source": [
    "# Set parameters\n",
    "# Assuming a statistical power of our test: 0.80\n",
    "\n",
    "alpha = 0.05\n",
    "power = 0.8 # standard Power of a test\n",
    "samp_size = len(RJ_season1stats['FG_pct'])\n",
    "ratio = float(len(RJ_season1stats['FG_pct']) / len(RJ_season2stats['FG_pct']))\n",
    "\n",
    "# Initialize analysis & calculate power\n",
    "analysis = pwr.TTestIndPower()\n",
    "effect_result = analysis.solve_power(effect_size=None, power=power, ratio=ratio, nobs1=samp_size, alpha=alpha)\n",
    "f\"The minimum effect size we could detect assuming a Power of 0.80 and \\\n",
    "the available sample sizes is {round(effect_result,3)}\""
   ]
  },
  {
   "cell_type": "markdown",
   "metadata": {},
   "source": [
    "### Calculating Effect size"
   ]
  },
  {
   "cell_type": "markdown",
   "metadata": {},
   "source": [
    "- To calculate effect size between FG% means of season 1 and 2 we will use Cohen's d (__[Effect size and Cohen's D](https://en.wikipedia.org/wiki/Effect_size)__)\n",
    "\n",
    "- Formula for `Cohen's d` to measure effect size:\n",
    "$$ \\frac {\\bar{X}_2 - \\bar{X}_1}{S_p} $$\n",
    "    &emsp; and Pooled standard deviation: $$ {S_p} = \\sqrt \\frac {(n_1-1)S_1^2 + (n_2-1)S_2^2}{n_1+n_2-2} $$\n"
   ]
  },
  {
   "cell_type": "code",
   "execution_count": 67,
   "metadata": {},
   "outputs": [
    {
     "data": {
      "text/plain": [
       "\"Our calculated effect size of using Cohen's d: 0.323\""
      ]
     },
     "execution_count": 67,
     "metadata": {},
     "output_type": "execute_result"
    }
   ],
   "source": [
    "# Create array for each season\n",
    "rook_szn = RJ_season1stats['FG_pct'].values\n",
    "soph_szn = RJ_season2stats['FG_pct'].values\n",
    "\n",
    "# Calculate difference between means and pooled standard deviation\n",
    "diff = soph_szn.mean() - rook_szn.mean()\n",
    "n_1 = len(rook_szn)\n",
    "n_2 = len(soph_szn)\n",
    "pooledstdev = ma.sqrt(((n_1 - 1)*rook_szn.std()**2 + (n_2 - 1)*soph_szn.std()**2) / ( n_1 + n_2 - 2))\n",
    "\n",
    "# Calculated Cohen's d\n",
    "cohend = diff / pooledstdev\n",
    "f\"Our calculated effect size of using Cohen's d: {round(cohend,3)}\""
   ]
  },
  {
   "cell_type": "code",
   "execution_count": 68,
   "metadata": {},
   "outputs": [
    {
     "data": {
      "text/plain": [
       "'Power of statistical test with actual sample size(s): 0.353'"
      ]
     },
     "execution_count": 68,
     "metadata": {},
     "output_type": "execute_result"
    }
   ],
   "source": [
    "# Set parameters\n",
    "effect_size = cohend\n",
    "alpha = 0.05\n",
    "samp_size = len(RJ_season1stats['FG_pct'])\n",
    "ratio = float(len(RJ_season1stats['FG_pct']) / len(RJ_season2stats['FG_pct']))\n",
    "\n",
    "# Initialize analysis & calculate power\n",
    "analysis = pwr.TTestIndPower()\n",
    "pwresult = analysis.solve_power(effect_size=effect_size, power=None, ratio=ratio, nobs1=samp_size, alpha=alpha)\n",
    "F\"Power of statistical test with actual sample size(s): {round(pwresult, 3)}\""
   ]
  },
  {
   "cell_type": "markdown",
   "metadata": {},
   "source": [
    "<div class=\"alert alert-block alert-success\">\n",
    "\n",
    "## Low statistical Power can lead to False Negatives\n",
    "\n",
    " - The minimal, detactable effect size based on existing parameters was __0.572__, which is _higher than_ the actual effect size of this comparison, __0.323__.\n",
    " \n",
    " \n",
    " - Although the two sample t-test showed there was no significant difference between RJ Barrett's FG% in Season 1 compared to Season 2, with the sample sizes available the statistical Power of our test was __0.35__, well below the standard threshold of 0.80. \n",
    "\n",
    " \n",
    " - Therefore, we cannot exclude the possibility that significant difference is present, but given the limited Power of our test we were unable to detect it and returned a False Negative. With a higher sample size the Power of our test would increase and reduce the risk of Type II error (False Negative)\n",
    "    \n",
    "</div>"
   ]
  },
  {
   "cell_type": "code",
   "execution_count": 69,
   "metadata": {},
   "outputs": [
    {
     "data": {
      "text/plain": [
       "'Power of statistical test with increased sample size: 0.796'"
      ]
     },
     "execution_count": 69,
     "metadata": {},
     "output_type": "execute_result"
    }
   ],
   "source": [
    "# Set parameters\n",
    "effect_size = cohend\n",
    "alpha = 0.05\n",
    "samp_size = 150\n",
    "ratio = 1\n",
    "\n",
    "# Initialize analysis & calculate power\n",
    "analysis = pwr.TTestIndPower()\n",
    "pwresult = analysis.solve_power(effect_size=effect_size, power=None, ratio=ratio, nobs1=samp_size, alpha=alpha)\n",
    "F\"Power of statistical test with increased sample size: {round(pwresult, 3)}\""
   ]
  },
  {
   "cell_type": "markdown",
   "metadata": {},
   "source": [
    "## Revisit ECDF plot of Rookie Season vs Sophmore Season\n",
    " \n",
    "With the added information of effect size and statistical power, I wanted to take another look at the ECDF plot of FG% distribution for each season. Instead of comparing single season results, the code below resamples FG% from each year and then takes the mean of this resampled array to generate bootstrap replicates of the mean FG% for that season. "
   ]
  },
  {
   "cell_type": "code",
   "execution_count": 70,
   "metadata": {},
   "outputs": [],
   "source": [
    "def bootstrap_replicate_1d(data, func):\n",
    "    \"\"\"Generate bootstrap replicate of 1D data.\"\"\"\n",
    "    bs_sample = np.random.choice(data, len(data))\n",
    "    return func(bs_sample)\n",
    "\n",
    "def draw_bs_reps(data, func, size=1):\n",
    "    \"\"\"Draw bootstrap replicates.\"\"\"\n",
    "\n",
    "    # Initialize array of replicates: bs_replicates\n",
    "    bs_replicates = np.empty(shape=size)\n",
    "\n",
    "    # Generate replicates\n",
    "    for i in range(size):\n",
    "        bs_replicates[i] = bootstrap_replicate_1d(data,func)\n",
    "\n",
    "    return bs_replicates"
   ]
  },
  {
   "cell_type": "code",
   "execution_count": 71,
   "metadata": {},
   "outputs": [],
   "source": [
    "bs_replicates = draw_bs_reps(rook_szn, np.mean, size = 2000)"
   ]
  },
  {
   "cell_type": "code",
   "execution_count": 72,
   "metadata": {},
   "outputs": [],
   "source": [
    "bs_replicates_s2 = draw_bs_reps(soph_szn, np.mean, size = 2000)"
   ]
  },
  {
   "cell_type": "code",
   "execution_count": 73,
   "metadata": {},
   "outputs": [
    {
     "data": {
      "image/png": "[encoded data removed]",
      "text/plain": [
       "<Figure size 576x432 with 1 Axes>"
      ]
     },
     "metadata": {},
     "output_type": "display_data"
    }
   ],
   "source": [
    "sns.set_context('notebook')\n",
    "sns.set_style('darkgrid')\n",
    "f, ax = plt.subplots(figsize = (8,6))\n",
    "sns.ecdfplot(data=bs_replicates, marker= 7, alpha= 0.4)\n",
    "sns.ecdfplot(data=bs_replicates_s2, marker= '^', alpha= 0.4)\n",
    "\n",
    "plt.xlabel('FG %')\n",
    "plt.ylabel('ECDF')\n",
    "plt.title('ECDF of FG% bootstrap replicates')\n",
    "plt.legend(('Rookie Szn', 'Soph Szn'), loc= 'lower right')\n",
    "plt.margins(0.02)\n",
    "plt.show()"
   ]
  },
  {
   "cell_type": "markdown",
   "metadata": {},
   "source": [
    "<div class=\"alert alert-block alert-success\">\n",
    "\n",
    "- Graphing the 2000 bootstrap replicates, the difference in mean FG% for RJ's sophmore season against his rookie season is much more pronounced\n",
    "    \n",
    "</div>"
   ]
  },
  {
   "cell_type": "markdown",
   "metadata": {},
   "source": [
    "\n",
    "## Permutation sampling\n",
    "\n",
    "<div class=\"alert alert-block alert-info\">\n",
    "\n",
    "- Continuning the analysis beyond the two sample t-test, we implement Permutation sampling methodology. Here the objective is to generate simulated data under the conditions of our null hypothesis \n",
    "\n",
    "### Setup\n",
    "    \n",
    "- Under the null hypothesis, $H_{o}$, again it is assumed that Season 1 FG% for each game and Season 2 FG% come from an identical distribution, that is, there is no difference in FG% outcomes from RJ's rookie season to sophmore season\n",
    "    - Since these FG% came from the same distribution we combine FG% results from both seasons, then reassign values to season 1 and season 2 as if there was no difference\n",
    "\n",
    "\n",
    " - The chosen test statistic to test this hypothesis is the `difference of mean FG%` for each season\n",
    "\n",
    "\n",
    " - Drawing 10,000 permutation samples, our objective is to record how many samples exhibit a difference in means _at least as extreme_ as the one that actually occurred. The number of samples that fit this criteria will represent the likelihood of witnessing our observed difference in means if shooting performances in each season were the same.\n",
    "    \n",
    "</div>"
   ]
  },
  {
   "cell_type": "code",
   "execution_count": 74,
   "metadata": {},
   "outputs": [
    {
     "name": "stdout",
     "output_type": "stream",
     "text": [
      "p-value = 0.037\n"
     ]
    }
   ],
   "source": [
    "def permutation_sample(data1, data2):\n",
    "    \"\"\"Generate a permutation sample from two data sets.\"\"\"\n",
    "\n",
    "    # Concatenate the data sets: data\n",
    "    data = np.concatenate((data1, data2))\n",
    "\n",
    "    # Permute the concatenated array: permuted_data\n",
    "    permuted_data = np.random.permutation(data)\n",
    "\n",
    "    # Split the permuted array into two: perm_sample_1, perm_sample_2\n",
    "    perm_sample_1 = permuted_data[:len(data1)]\n",
    "    perm_sample_2 = permuted_data[len(data1):]\n",
    "\n",
    "    return perm_sample_1, perm_sample_2\n",
    "\n",
    "def draw_perm_reps(data_1, data_2, func, size=1):\n",
    "    \"\"\"Generate multiple permutation replicates.\"\"\"\n",
    "\n",
    "    # Initialize array of replicates: perm_replicates\n",
    "    perm_replicates = np.empty(size)\n",
    "\n",
    "    for i in range(size):\n",
    "        # Generate permutation sample\n",
    "        perm_sample_1, perm_sample_2 = permutation_sample(data_1, data_2)\n",
    "\n",
    "        # Compute the test statistic\n",
    "        perm_replicates[i] = func(perm_sample_1, perm_sample_2)\n",
    "\n",
    "    return perm_replicates\n",
    "\n",
    "def diff_of_means(data_1, data_2):\n",
    "    \"\"\"Difference in means of two arrays.\"\"\"\n",
    "\n",
    "    # The difference of means of data_1, data_2: diff\n",
    "    diff = np.mean(data_1) - np.mean(data_2)\n",
    "\n",
    "    return diff\n",
    "\n",
    "# Compute difference of mean FG% for each season: emp_diff_FG\n",
    "emp_diff_FG = diff_of_means(soph_szn, rook_szn)\n",
    "\n",
    "perm_replicates = draw_perm_reps(soph_szn, rook_szn,\n",
    "                                 diff_of_means, size=10000)\n",
    "\n",
    "# Compute p-value: p\n",
    "p = np.sum(perm_replicates >= emp_diff_FG) / len(perm_replicates)\n",
    "\n",
    "# Print the result\n",
    "print('p-value =', p)"
   ]
  },
  {
   "cell_type": "code",
   "execution_count": 190,
   "metadata": {},
   "outputs": [
    {
     "data": {
      "image/png": "[encoded data removed]",
      "text/plain": [
       "<Figure size 648x432 with 1 Axes>"
      ]
     },
     "metadata": {},
     "output_type": "display_data"
    }
   ],
   "source": [
    "f, ax = plt.subplots(figsize = (9,6))\n",
    "plt.hist(perm_replicates)\n",
    "plt.annotate('Actual difference of means', xy=(0.05, 1500), xytext=(.08,2200),\n",
    "             arrowprops=dict(facecolor='orange', shrink=0.05, width = 6),\n",
    "             fontsize = 16)\n",
    "\n",
    "plt.plot([0.05, 0.05], [10, 3000], 'k--', lw=3)\n",
    "\n",
    "plt.ylabel('Frequency', fontsize = 'large')\n",
    "plt.xlabel('Difference of means', fontsize = 'large')\n",
    "plt.title('Histogram of perumtation samples', fontsize = 'x-large')\n",
    "plt.show()"
   ]
  },
  {
   "cell_type": "markdown",
   "metadata": {},
   "source": [
    " ### Evaluating Permutation sampling results"
   ]
  },
  {
   "cell_type": "markdown",
   "metadata": {},
   "source": [
    "\n",
    "\n",
    "<div class=\"alert alert-block alert-success\">\n",
    "\n",
    " - A `p-value = 0.037` indicates that the observed difference in means is about 3.7% if the two seasons were exactly the same, or in other words we have statiscally significant evidence the two seasons are not the same and sophmore season shows true progression for RJ' growth\n",
    "    \n",
    "</div>"
   ]
  },
  {
   "cell_type": "markdown",
   "metadata": {},
   "source": [
    "Although the conflicting results within this analysis might come off underwhelming, a critical factor that is highlighted is the uncertainty that underlies statistical analysis and sports. When combining the two it's difficult to land on any absolute truths. \n",
    "\n",
    "Is RJ a bucket? Will he be the next great Knick to bring banners back to the garden? It's hard to say. Yes, he made improvements scoring the ball but more data (read: time) is needed.\n",
    "\n",
    "Regardless, it's Knicktape."
   ]
  },
  {
   "cell_type": "code",
   "execution_count": null,
   "metadata": {},
   "outputs": [],
   "source": []
  }
 ],
 "metadata": {
  "kernelspec": {
   "display_name": "Python 3",
   "language": "python",
   "name": "python3"
  },
  "language_info": {
   "codemirror_mode": {
    "name": "ipython",
    "version": 3
   },
   "file_extension": ".py",
   "mimetype": "text/x-python",
   "name": "python",
   "nbconvert_exporter": "python",
   "pygments_lexer": "ipython3",
   "version": "3.7.7"
  }
 },
 "nbformat": 4,
 "nbformat_minor": 4
}
